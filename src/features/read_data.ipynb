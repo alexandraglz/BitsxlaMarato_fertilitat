{
 "cells": [
  {
   "cell_type": "code",
   "execution_count": 1,
   "metadata": {},
   "outputs": [],
   "source": [
    "import pandas as pd"
   ]
  },
  {
   "cell_type": "code",
   "execution_count": 4,
   "metadata": {},
   "outputs": [
    {
     "name": "stdout",
     "output_type": "stream",
     "text": [
      "Saved Sample info + Sperm quality as Sample info + Sperm quality.csv\n",
      "Saved Pylum-level microbiota as Pylum-level microbiota.csv\n",
      "Saved Family-level microbiota as Family-level microbiota.csv\n",
      "Saved Genus-level microbiota as Genus-level microbiota.csv\n"
     ]
    }
   ],
   "source": [
    "excel_file_path = 'raw/illumina/Metadata_and_relative_abundance_of_seminal_microbiota_from_idiopathic_infertile_patients_and_donors.xlsx'\n",
    "\n",
    "# Read the Excel file\n",
    "xls = pd.ExcelFile(excel_file_path)\n",
    "\n",
    "# Iterate through each sheet in the Excel file\n",
    "for sheet_name in xls.sheet_names:\n",
    "    # Read the current sheet\n",
    "    df = pd.read_excel(excel_file_path, sheet_name)\n",
    "\n",
    "    # Save the sheet as a CSV file\n",
    "    csv_file_path = f'{sheet_name}.csv'\n",
    "    df.to_csv(csv_file_path, index=False)\n",
    "\n",
    "    print(f'Saved {sheet_name} as {csv_file_path}')"
   ]
  },
  {
   "cell_type": "code",
   "execution_count": 2,
   "metadata": {},
   "outputs": [],
   "source": [
    "atlas = pd.read_excel('NPAtlas.xlsx')\n",
    "atlas.to_csv('NPAtlas.csv', index=False)"
   ]
  },
  {
   "cell_type": "code",
   "execution_count": null,
   "metadata": {},
   "outputs": [],
   "source": []
  }
 ],
 "metadata": {
  "kernelspec": {
   "display_name": "Python 3",
   "language": "python",
   "name": "python3"
  },
  "language_info": {
   "codemirror_mode": {
    "name": "ipython",
    "version": 3
   },
   "file_extension": ".py",
   "mimetype": "text/x-python",
   "name": "python",
   "nbconvert_exporter": "python",
   "pygments_lexer": "ipython3",
   "version": "3.11.4"
  },
  "orig_nbformat": 4
 },
 "nbformat": 4,
 "nbformat_minor": 2
}
